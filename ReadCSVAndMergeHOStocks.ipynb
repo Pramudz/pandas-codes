{
 "cells": [
  {
   "cell_type": "code",
   "execution_count": 58,
   "id": "f8424ec8",
   "metadata": {
    "scrolled": true
   },
   "outputs": [
    {
     "data": {
      "text/plain": [
       "'G:\\\\Pramud Office Important\\\\Pramud Updated 21-05-2020\\\\PandasDF-Codes\\\\Stock Related'"
      ]
     },
     "execution_count": 58,
     "metadata": {},
     "output_type": "execute_result"
    }
   ],
   "source": [
    "import os\n",
    "os.getcwd()"
   ]
  },
  {
   "cell_type": "code",
   "execution_count": 59,
   "id": "22305dda",
   "metadata": {},
   "outputs": [
    {
     "name": "stdout",
     "output_type": "stream",
     "text": [
      "G:\\Pramud Office Important\\Pramud Updated 21-05-2020\\Weekly Stock\\28th Feb 2023\\Loc\\AD\n",
      "G:\\Pramud Office Important\\Pramud Updated 21-05-2020\\Weekly Stock\\28th Feb 2023\\Loc\\Bakery\n",
      "G:\\Pramud Office Important\\Pramud Updated 21-05-2020\\Weekly Stock\\28th Feb 2023\\Loc\\SC\n",
      "G:\\Pramud Office Important\\Pramud Updated 21-05-2020\\Weekly Stock\\28th Feb 2023\\Loc\\SR\n"
     ]
    }
   ],
   "source": [
    "cwd = os.getcwd()\n",
    "pathToPython = \"G:\\\\Pramud Office Important\\\\Pramud Updated 21-05-2020\\\\Weekly Stock\\\\28th Feb 2023\\\\Loc\"\n",
    "files = os.listdir(pathToPython)\n",
    "for fi in files:\n",
    "    print(os.path.join(pathToPython,fi))"
   ]
  },
  {
   "cell_type": "code",
   "execution_count": 60,
   "id": "3af17015",
   "metadata": {
    "scrolled": true
   },
   "outputs": [
    {
     "name": "stdout",
     "output_type": "stream",
     "text": [
      "G:\\Pramud Office Important\\Pramud Updated 21-05-2020\\Weekly Stock\\28th Feb 2023\\Loc\\AD\\117.csv\n",
      "G:\\Pramud Office Important\\Pramud Updated 21-05-2020\\Weekly Stock\\28th Feb 2023\\Loc\\AD\\150.csv\n",
      "G:\\Pramud Office Important\\Pramud Updated 21-05-2020\\Weekly Stock\\28th Feb 2023\\Loc\\AD\\152.csv\n",
      "G:\\Pramud Office Important\\Pramud Updated 21-05-2020\\Weekly Stock\\28th Feb 2023\\Loc\\AD\\154.csv\n",
      "G:\\Pramud Office Important\\Pramud Updated 21-05-2020\\Weekly Stock\\28th Feb 2023\\Loc\\AD\\156.csv\n",
      "G:\\Pramud Office Important\\Pramud Updated 21-05-2020\\Weekly Stock\\28th Feb 2023\\Loc\\AD\\160.csv\n",
      "G:\\Pramud Office Important\\Pramud Updated 21-05-2020\\Weekly Stock\\28th Feb 2023\\Loc\\AD\\161.csv\n",
      "G:\\Pramud Office Important\\Pramud Updated 21-05-2020\\Weekly Stock\\28th Feb 2023\\Loc\\AD\\163.csv\n",
      "G:\\Pramud Office Important\\Pramud Updated 21-05-2020\\Weekly Stock\\28th Feb 2023\\Loc\\AD\\166.csv\n",
      "G:\\Pramud Office Important\\Pramud Updated 21-05-2020\\Weekly Stock\\28th Feb 2023\\Loc\\AD\\167.csv\n",
      "G:\\Pramud Office Important\\Pramud Updated 21-05-2020\\Weekly Stock\\28th Feb 2023\\Loc\\AD\\168.csv\n",
      "G:\\Pramud Office Important\\Pramud Updated 21-05-2020\\Weekly Stock\\28th Feb 2023\\Loc\\AD\\171.csv\n",
      "G:\\Pramud Office Important\\Pramud Updated 21-05-2020\\Weekly Stock\\28th Feb 2023\\Loc\\AD\\172.csv\n",
      "G:\\Pramud Office Important\\Pramud Updated 21-05-2020\\Weekly Stock\\28th Feb 2023\\Loc\\AD\\174.csv\n",
      "G:\\Pramud Office Important\\Pramud Updated 21-05-2020\\Weekly Stock\\28th Feb 2023\\Loc\\AD\\175.csv\n",
      "G:\\Pramud Office Important\\Pramud Updated 21-05-2020\\Weekly Stock\\28th Feb 2023\\Loc\\AD\\179.csv\n",
      "G:\\Pramud Office Important\\Pramud Updated 21-05-2020\\Weekly Stock\\28th Feb 2023\\Loc\\AD\\181.csv\n",
      "G:\\Pramud Office Important\\Pramud Updated 21-05-2020\\Weekly Stock\\28th Feb 2023\\Loc\\AD\\182.csv\n",
      "G:\\Pramud Office Important\\Pramud Updated 21-05-2020\\Weekly Stock\\28th Feb 2023\\Loc\\AD\\188.csv\n",
      "G:\\Pramud Office Important\\Pramud Updated 21-05-2020\\Weekly Stock\\28th Feb 2023\\Loc\\AD\\189.csv\n",
      "G:\\Pramud Office Important\\Pramud Updated 21-05-2020\\Weekly Stock\\28th Feb 2023\\Loc\\AD\\190.csv\n",
      "G:\\Pramud Office Important\\Pramud Updated 21-05-2020\\Weekly Stock\\28th Feb 2023\\Loc\\AD\\191.csv\n",
      "G:\\Pramud Office Important\\Pramud Updated 21-05-2020\\Weekly Stock\\28th Feb 2023\\Loc\\AD\\192.csv\n",
      "G:\\Pramud Office Important\\Pramud Updated 21-05-2020\\Weekly Stock\\28th Feb 2023\\Loc\\AD\\80.csv\n",
      "G:\\Pramud Office Important\\Pramud Updated 21-05-2020\\Weekly Stock\\28th Feb 2023\\Loc\\AD\\81.csv\n",
      "G:\\Pramud Office Important\\Pramud Updated 21-05-2020\\Weekly Stock\\28th Feb 2023\\Loc\\AD\\82.csv\n",
      "G:\\Pramud Office Important\\Pramud Updated 21-05-2020\\Weekly Stock\\28th Feb 2023\\Loc\\Bakery\\502.csv\n",
      "G:\\Pramud Office Important\\Pramud Updated 21-05-2020\\Weekly Stock\\28th Feb 2023\\Loc\\Bakery\\503.csv\n",
      "G:\\Pramud Office Important\\Pramud Updated 21-05-2020\\Weekly Stock\\28th Feb 2023\\Loc\\Bakery\\504.csv\n",
      "G:\\Pramud Office Important\\Pramud Updated 21-05-2020\\Weekly Stock\\28th Feb 2023\\Loc\\Bakery\\505.csv\n",
      "G:\\Pramud Office Important\\Pramud Updated 21-05-2020\\Weekly Stock\\28th Feb 2023\\Loc\\Bakery\\514.csv\n",
      "G:\\Pramud Office Important\\Pramud Updated 21-05-2020\\Weekly Stock\\28th Feb 2023\\Loc\\Bakery\\522.csv\n",
      "G:\\Pramud Office Important\\Pramud Updated 21-05-2020\\Weekly Stock\\28th Feb 2023\\Loc\\Bakery\\523.csv\n",
      "G:\\Pramud Office Important\\Pramud Updated 21-05-2020\\Weekly Stock\\28th Feb 2023\\Loc\\Bakery\\525.csv\n",
      "G:\\Pramud Office Important\\Pramud Updated 21-05-2020\\Weekly Stock\\28th Feb 2023\\Loc\\Bakery\\526.csv\n",
      "G:\\Pramud Office Important\\Pramud Updated 21-05-2020\\Weekly Stock\\28th Feb 2023\\Loc\\Bakery\\579.csv\n",
      "G:\\Pramud Office Important\\Pramud Updated 21-05-2020\\Weekly Stock\\28th Feb 2023\\Loc\\Bakery\\605.csv\n",
      "G:\\Pramud Office Important\\Pramud Updated 21-05-2020\\Weekly Stock\\28th Feb 2023\\Loc\\Bakery\\606.csv\n",
      "G:\\Pramud Office Important\\Pramud Updated 21-05-2020\\Weekly Stock\\28th Feb 2023\\Loc\\Bakery\\608.csv\n",
      "G:\\Pramud Office Important\\Pramud Updated 21-05-2020\\Weekly Stock\\28th Feb 2023\\Loc\\Bakery\\609.csv\n",
      "G:\\Pramud Office Important\\Pramud Updated 21-05-2020\\Weekly Stock\\28th Feb 2023\\Loc\\Bakery\\610.csv\n",
      "G:\\Pramud Office Important\\Pramud Updated 21-05-2020\\Weekly Stock\\28th Feb 2023\\Loc\\Bakery\\611.csv\n",
      "G:\\Pramud Office Important\\Pramud Updated 21-05-2020\\Weekly Stock\\28th Feb 2023\\Loc\\Bakery\\612.csv\n",
      "G:\\Pramud Office Important\\Pramud Updated 21-05-2020\\Weekly Stock\\28th Feb 2023\\Loc\\Bakery\\613.csv\n",
      "G:\\Pramud Office Important\\Pramud Updated 21-05-2020\\Weekly Stock\\28th Feb 2023\\Loc\\Bakery\\614.csv\n",
      "G:\\Pramud Office Important\\Pramud Updated 21-05-2020\\Weekly Stock\\28th Feb 2023\\Loc\\Bakery\\615.csv\n",
      "G:\\Pramud Office Important\\Pramud Updated 21-05-2020\\Weekly Stock\\28th Feb 2023\\Loc\\Bakery\\616.csv\n",
      "G:\\Pramud Office Important\\Pramud Updated 21-05-2020\\Weekly Stock\\28th Feb 2023\\Loc\\Bakery\\619.csv\n",
      "G:\\Pramud Office Important\\Pramud Updated 21-05-2020\\Weekly Stock\\28th Feb 2023\\Loc\\Bakery\\621.csv\n",
      "G:\\Pramud Office Important\\Pramud Updated 21-05-2020\\Weekly Stock\\28th Feb 2023\\Loc\\Bakery\\622.csv\n",
      "G:\\Pramud Office Important\\Pramud Updated 21-05-2020\\Weekly Stock\\28th Feb 2023\\Loc\\Bakery\\623.csv\n",
      "G:\\Pramud Office Important\\Pramud Updated 21-05-2020\\Weekly Stock\\28th Feb 2023\\Loc\\Bakery\\627.csv\n",
      "G:\\Pramud Office Important\\Pramud Updated 21-05-2020\\Weekly Stock\\28th Feb 2023\\Loc\\Bakery\\628.csv\n",
      "G:\\Pramud Office Important\\Pramud Updated 21-05-2020\\Weekly Stock\\28th Feb 2023\\Loc\\Bakery\\73.csv\n",
      "G:\\Pramud Office Important\\Pramud Updated 21-05-2020\\Weekly Stock\\28th Feb 2023\\Loc\\Bakery\\74.csv\n",
      "G:\\Pramud Office Important\\Pramud Updated 21-05-2020\\Weekly Stock\\28th Feb 2023\\Loc\\Bakery\\85.csv\n",
      "G:\\Pramud Office Important\\Pramud Updated 21-05-2020\\Weekly Stock\\28th Feb 2023\\Loc\\Bakery\\86.csv\n",
      "G:\\Pramud Office Important\\Pramud Updated 21-05-2020\\Weekly Stock\\28th Feb 2023\\Loc\\SC\\02.csv\n",
      "G:\\Pramud Office Important\\Pramud Updated 21-05-2020\\Weekly Stock\\28th Feb 2023\\Loc\\SC\\03.csv\n",
      "G:\\Pramud Office Important\\Pramud Updated 21-05-2020\\Weekly Stock\\28th Feb 2023\\Loc\\SC\\04.csv\n",
      "G:\\Pramud Office Important\\Pramud Updated 21-05-2020\\Weekly Stock\\28th Feb 2023\\Loc\\SC\\05.csv\n",
      "G:\\Pramud Office Important\\Pramud Updated 21-05-2020\\Weekly Stock\\28th Feb 2023\\Loc\\SC\\105.csv\n",
      "G:\\Pramud Office Important\\Pramud Updated 21-05-2020\\Weekly Stock\\28th Feb 2023\\Loc\\SC\\106.csv\n",
      "G:\\Pramud Office Important\\Pramud Updated 21-05-2020\\Weekly Stock\\28th Feb 2023\\Loc\\SC\\108.csv\n",
      "G:\\Pramud Office Important\\Pramud Updated 21-05-2020\\Weekly Stock\\28th Feb 2023\\Loc\\SC\\109.csv\n",
      "G:\\Pramud Office Important\\Pramud Updated 21-05-2020\\Weekly Stock\\28th Feb 2023\\Loc\\SC\\110.csv\n",
      "G:\\Pramud Office Important\\Pramud Updated 21-05-2020\\Weekly Stock\\28th Feb 2023\\Loc\\SC\\111.csv\n",
      "G:\\Pramud Office Important\\Pramud Updated 21-05-2020\\Weekly Stock\\28th Feb 2023\\Loc\\SC\\112.csv\n",
      "G:\\Pramud Office Important\\Pramud Updated 21-05-2020\\Weekly Stock\\28th Feb 2023\\Loc\\SC\\113.csv\n",
      "G:\\Pramud Office Important\\Pramud Updated 21-05-2020\\Weekly Stock\\28th Feb 2023\\Loc\\SC\\114.csv\n",
      "G:\\Pramud Office Important\\Pramud Updated 21-05-2020\\Weekly Stock\\28th Feb 2023\\Loc\\SC\\115.csv\n",
      "G:\\Pramud Office Important\\Pramud Updated 21-05-2020\\Weekly Stock\\28th Feb 2023\\Loc\\SC\\116.csv\n",
      "G:\\Pramud Office Important\\Pramud Updated 21-05-2020\\Weekly Stock\\28th Feb 2023\\Loc\\SC\\119.csv\n",
      "G:\\Pramud Office Important\\Pramud Updated 21-05-2020\\Weekly Stock\\28th Feb 2023\\Loc\\SC\\121.csv\n",
      "G:\\Pramud Office Important\\Pramud Updated 21-05-2020\\Weekly Stock\\28th Feb 2023\\Loc\\SC\\122.csv\n",
      "G:\\Pramud Office Important\\Pramud Updated 21-05-2020\\Weekly Stock\\28th Feb 2023\\Loc\\SC\\123.csv\n",
      "G:\\Pramud Office Important\\Pramud Updated 21-05-2020\\Weekly Stock\\28th Feb 2023\\Loc\\SC\\127.csv\n",
      "G:\\Pramud Office Important\\Pramud Updated 21-05-2020\\Weekly Stock\\28th Feb 2023\\Loc\\SC\\128.csv\n",
      "G:\\Pramud Office Important\\Pramud Updated 21-05-2020\\Weekly Stock\\28th Feb 2023\\Loc\\SC\\14.csv\n",
      "G:\\Pramud Office Important\\Pramud Updated 21-05-2020\\Weekly Stock\\28th Feb 2023\\Loc\\SC\\22.csv\n",
      "G:\\Pramud Office Important\\Pramud Updated 21-05-2020\\Weekly Stock\\28th Feb 2023\\Loc\\SC\\23.csv\n",
      "G:\\Pramud Office Important\\Pramud Updated 21-05-2020\\Weekly Stock\\28th Feb 2023\\Loc\\SC\\24.csv\n",
      "G:\\Pramud Office Important\\Pramud Updated 21-05-2020\\Weekly Stock\\28th Feb 2023\\Loc\\SC\\25.csv\n",
      "G:\\Pramud Office Important\\Pramud Updated 21-05-2020\\Weekly Stock\\28th Feb 2023\\Loc\\SC\\26.csv\n",
      "G:\\Pramud Office Important\\Pramud Updated 21-05-2020\\Weekly Stock\\28th Feb 2023\\Loc\\SC\\27.csv\n",
      "G:\\Pramud Office Important\\Pramud Updated 21-05-2020\\Weekly Stock\\28th Feb 2023\\Loc\\SC\\76.csv\n",
      "G:\\Pramud Office Important\\Pramud Updated 21-05-2020\\Weekly Stock\\28th Feb 2023\\Loc\\SC\\79.csv\n",
      "G:\\Pramud Office Important\\Pramud Updated 21-05-2020\\Weekly Stock\\28th Feb 2023\\Loc\\SR\\08.csv\n",
      "G:\\Pramud Office Important\\Pramud Updated 21-05-2020\\Weekly Stock\\28th Feb 2023\\Loc\\SR\\09.csv\n",
      "G:\\Pramud Office Important\\Pramud Updated 21-05-2020\\Weekly Stock\\28th Feb 2023\\Loc\\SR\\19.csv\n",
      "G:\\Pramud Office Important\\Pramud Updated 21-05-2020\\Weekly Stock\\28th Feb 2023\\Loc\\SR\\20.csv\n",
      "G:\\Pramud Office Important\\Pramud Updated 21-05-2020\\Weekly Stock\\28th Feb 2023\\Loc\\SR\\21.csv\n",
      "G:\\Pramud Office Important\\Pramud Updated 21-05-2020\\Weekly Stock\\28th Feb 2023\\Loc\\SR\\29.csv\n",
      "G:\\Pramud Office Important\\Pramud Updated 21-05-2020\\Weekly Stock\\28th Feb 2023\\Loc\\SR\\51.csv\n",
      "G:\\Pramud Office Important\\Pramud Updated 21-05-2020\\Weekly Stock\\28th Feb 2023\\Loc\\SR\\53.csv\n",
      "G:\\Pramud Office Important\\Pramud Updated 21-05-2020\\Weekly Stock\\28th Feb 2023\\Loc\\SR\\56.csv\n",
      "G:\\Pramud Office Important\\Pramud Updated 21-05-2020\\Weekly Stock\\28th Feb 2023\\Loc\\SR\\57.csv\n",
      "G:\\Pramud Office Important\\Pramud Updated 21-05-2020\\Weekly Stock\\28th Feb 2023\\Loc\\SR\\58.csv\n",
      "G:\\Pramud Office Important\\Pramud Updated 21-05-2020\\Weekly Stock\\28th Feb 2023\\Loc\\SR\\98.csv\n"
     ]
    }
   ],
   "source": [
    "import pandas as pd\n",
    "import glob\n",
    "path = \"G:\\\\Pramud Office Important\\\\Pramud Updated 21-05-2020\\\\Weekly Stock\\\\28th Feb 2023\\\\Loc\\\\\" #  path\n",
    "all_files = glob.glob(os.path.join(path , \"*/*.csv\"))\n",
    "for fi in all_files:\n",
    "    print(os.path.join(pathToPython,fi))"
   ]
  },
  {
   "cell_type": "code",
   "execution_count": 61,
   "id": "10acaacf",
   "metadata": {},
   "outputs": [],
   "source": [
    "li = []\n",
    "for fi in all_files:\n",
    "    if len(li) == 0:\n",
    "        df = pd.read_csv(fi, index_col=None)\n",
    "    else:\n",
    "        df = pd.read_csv(fi, index_col=None, header=0)\n",
    "    li.append(df)\n",
    "\n",
    "frame = pd.concat(li, axis=0, ignore_index=True)"
   ]
  },
  {
   "cell_type": "code",
   "execution_count": 62,
   "id": "fddfc717",
   "metadata": {},
   "outputs": [
    {
     "data": {
      "text/plain": [
       "(635916, 35)"
      ]
     },
     "execution_count": 62,
     "metadata": {},
     "output_type": "execute_result"
    }
   ],
   "source": [
    "frame.shape"
   ]
  },
  {
   "cell_type": "code",
   "execution_count": 63,
   "id": "1982828e",
   "metadata": {},
   "outputs": [
    {
     "data": {
      "text/html": [
       "<div>\n",
       "<style scoped>\n",
       "    .dataframe tbody tr th:only-of-type {\n",
       "        vertical-align: middle;\n",
       "    }\n",
       "\n",
       "    .dataframe tbody tr th {\n",
       "        vertical-align: top;\n",
       "    }\n",
       "\n",
       "    .dataframe thead th {\n",
       "        text-align: right;\n",
       "    }\n",
       "</style>\n",
       "<table border=\"1\" class=\"dataframe\">\n",
       "  <thead>\n",
       "    <tr style=\"text-align: right;\">\n",
       "      <th></th>\n",
       "      <th>rep_date</th>\n",
       "      <th>sbu_code</th>\n",
       "      <th>loc_code</th>\n",
       "      <th>loc_name</th>\n",
       "      <th>prim_cls</th>\n",
       "      <th>main_grp</th>\n",
       "      <th>catdes</th>\n",
       "      <th>item_code</th>\n",
       "      <th>supplier</th>\n",
       "      <th>itm_desc</th>\n",
       "      <th>...</th>\n",
       "      <th>cur_val</th>\n",
       "      <th>ove30_val</th>\n",
       "      <th>ove60_val</th>\n",
       "      <th>ove90_val</th>\n",
       "      <th>ove120_val</th>\n",
       "      <th>ove180_val</th>\n",
       "      <th>ove270_val</th>\n",
       "      <th>ove365_val</th>\n",
       "      <th>ove730_val</th>\n",
       "      <th>neg_stock_val</th>\n",
       "    </tr>\n",
       "  </thead>\n",
       "  <tbody>\n",
       "    <tr>\n",
       "      <th>0</th>\n",
       "      <td>2023-02-28</td>\n",
       "      <td>830</td>\n",
       "      <td>117</td>\n",
       "      <td>Wattala 2 SS</td>\n",
       "      <td>B</td>\n",
       "      <td>Electricals</td>\n",
       "      <td>Electronics</td>\n",
       "      <td>LPERKDKN56RG</td>\n",
       "      <td>200001.0</td>\n",
       "      <td>KDK CEILING FAN N56RG</td>\n",
       "      <td>...</td>\n",
       "      <td>0.0</td>\n",
       "      <td>0.0</td>\n",
       "      <td>0.0</td>\n",
       "      <td>0.0</td>\n",
       "      <td>0.0</td>\n",
       "      <td>0.0</td>\n",
       "      <td>13155.01</td>\n",
       "      <td>0.0</td>\n",
       "      <td>0.0000</td>\n",
       "      <td>0.0</td>\n",
       "    </tr>\n",
       "    <tr>\n",
       "      <th>1</th>\n",
       "      <td>2023-02-28</td>\n",
       "      <td>830</td>\n",
       "      <td>117</td>\n",
       "      <td>Wattala 2 SS</td>\n",
       "      <td>B</td>\n",
       "      <td>Electricals</td>\n",
       "      <td>Electronics</td>\n",
       "      <td>LPRTDPF1104A</td>\n",
       "      <td>100521.0</td>\n",
       "      <td>DP RECHARGEABLE FAN 12 INCH</td>\n",
       "      <td>...</td>\n",
       "      <td>0.0</td>\n",
       "      <td>0.0</td>\n",
       "      <td>0.0</td>\n",
       "      <td>0.0</td>\n",
       "      <td>47000.0</td>\n",
       "      <td>0.0</td>\n",
       "      <td>0.00</td>\n",
       "      <td>0.0</td>\n",
       "      <td>0.0000</td>\n",
       "      <td>0.0</td>\n",
       "    </tr>\n",
       "    <tr>\n",
       "      <th>2</th>\n",
       "      <td>2023-02-28</td>\n",
       "      <td>830</td>\n",
       "      <td>117</td>\n",
       "      <td>Wattala 2 SS</td>\n",
       "      <td>B</td>\n",
       "      <td>Electricals</td>\n",
       "      <td>Electronics</td>\n",
       "      <td>LPRTDPLED762</td>\n",
       "      <td>100521.0</td>\n",
       "      <td>RECHARGEABLE FAN 7 INCH</td>\n",
       "      <td>...</td>\n",
       "      <td>0.0</td>\n",
       "      <td>0.0</td>\n",
       "      <td>0.0</td>\n",
       "      <td>0.0</td>\n",
       "      <td>14000.0</td>\n",
       "      <td>0.0</td>\n",
       "      <td>0.00</td>\n",
       "      <td>0.0</td>\n",
       "      <td>0.0000</td>\n",
       "      <td>0.0</td>\n",
       "    </tr>\n",
       "    <tr>\n",
       "      <th>3</th>\n",
       "      <td>2023-02-28</td>\n",
       "      <td>830</td>\n",
       "      <td>117</td>\n",
       "      <td>Wattala 2 SS</td>\n",
       "      <td>B</td>\n",
       "      <td>Electricals</td>\n",
       "      <td>Electronics</td>\n",
       "      <td>LPSLWF1608R</td>\n",
       "      <td>299.0</td>\n",
       "      <td>SINGER WALL FAN</td>\n",
       "      <td>...</td>\n",
       "      <td>0.0</td>\n",
       "      <td>0.0</td>\n",
       "      <td>0.0</td>\n",
       "      <td>0.0</td>\n",
       "      <td>0.0</td>\n",
       "      <td>0.0</td>\n",
       "      <td>0.00</td>\n",
       "      <td>0.0</td>\n",
       "      <td>7208.1005</td>\n",
       "      <td>0.0</td>\n",
       "    </tr>\n",
       "    <tr>\n",
       "      <th>4</th>\n",
       "      <td>2023-02-28</td>\n",
       "      <td>830</td>\n",
       "      <td>117</td>\n",
       "      <td>Wattala 2 SS</td>\n",
       "      <td>B</td>\n",
       "      <td>Electricals</td>\n",
       "      <td>Electronics</td>\n",
       "      <td>TCR-SF1638</td>\n",
       "      <td>100531.0</td>\n",
       "      <td>TECRO STAND FAN</td>\n",
       "      <td>...</td>\n",
       "      <td>0.0</td>\n",
       "      <td>0.0</td>\n",
       "      <td>0.0</td>\n",
       "      <td>0.0</td>\n",
       "      <td>0.0</td>\n",
       "      <td>0.0</td>\n",
       "      <td>6088.61</td>\n",
       "      <td>0.0</td>\n",
       "      <td>0.0000</td>\n",
       "      <td>0.0</td>\n",
       "    </tr>\n",
       "  </tbody>\n",
       "</table>\n",
       "<p>5 rows × 35 columns</p>\n",
       "</div>"
      ],
      "text/plain": [
       "     rep_date  sbu_code  loc_code      loc_name prim_cls     main_grp  \\\n",
       "0  2023-02-28       830       117  Wattala 2 SS        B  Electricals   \n",
       "1  2023-02-28       830       117  Wattala 2 SS        B  Electricals   \n",
       "2  2023-02-28       830       117  Wattala 2 SS        B  Electricals   \n",
       "3  2023-02-28       830       117  Wattala 2 SS        B  Electricals   \n",
       "4  2023-02-28       830       117  Wattala 2 SS        B  Electricals   \n",
       "\n",
       "        catdes     item_code  supplier                     itm_desc  ...  \\\n",
       "0  Electronics  LPERKDKN56RG  200001.0        KDK CEILING FAN N56RG  ...   \n",
       "1  Electronics  LPRTDPF1104A  100521.0  DP RECHARGEABLE FAN 12 INCH  ...   \n",
       "2  Electronics  LPRTDPLED762  100521.0      RECHARGEABLE FAN 7 INCH  ...   \n",
       "3  Electronics   LPSLWF1608R     299.0              SINGER WALL FAN  ...   \n",
       "4  Electronics    TCR-SF1638  100531.0              TECRO STAND FAN  ...   \n",
       "\n",
       "  cur_val  ove30_val  ove60_val  ove90_val  ove120_val  ove180_val  \\\n",
       "0     0.0        0.0        0.0        0.0         0.0         0.0   \n",
       "1     0.0        0.0        0.0        0.0     47000.0         0.0   \n",
       "2     0.0        0.0        0.0        0.0     14000.0         0.0   \n",
       "3     0.0        0.0        0.0        0.0         0.0         0.0   \n",
       "4     0.0        0.0        0.0        0.0         0.0         0.0   \n",
       "\n",
       "   ove270_val  ove365_val  ove730_val  neg_stock_val  \n",
       "0    13155.01         0.0      0.0000            0.0  \n",
       "1        0.00         0.0      0.0000            0.0  \n",
       "2        0.00         0.0      0.0000            0.0  \n",
       "3        0.00         0.0   7208.1005            0.0  \n",
       "4     6088.61         0.0      0.0000            0.0  \n",
       "\n",
       "[5 rows x 35 columns]"
      ]
     },
     "execution_count": 63,
     "metadata": {},
     "output_type": "execute_result"
    }
   ],
   "source": [
    "frame.head()"
   ]
  },
  {
   "cell_type": "code",
   "execution_count": 64,
   "id": "086b2e23",
   "metadata": {
    "scrolled": true
   },
   "outputs": [
    {
     "data": {
      "text/plain": [
       "rep_date          object\n",
       "sbu_code           int64\n",
       "loc_code           int64\n",
       "loc_name          object\n",
       "prim_cls          object\n",
       "main_grp          object\n",
       "catdes            object\n",
       "item_code         object\n",
       "supplier         float64\n",
       "itm_desc          object\n",
       "itm_group         object\n",
       "on_hand_qty      float64\n",
       "avg_price        float64\n",
       "plu_code         float64\n",
       "cur              float64\n",
       "ove30            float64\n",
       "ove60            float64\n",
       "ove90            float64\n",
       "ove120           float64\n",
       "ove180           float64\n",
       "ove270           float64\n",
       "ove365           float64\n",
       "ove730           float64\n",
       "neg_stock        float64\n",
       "on_hand_value    float64\n",
       "cur_val          float64\n",
       "ove30_val        float64\n",
       "ove60_val        float64\n",
       "ove90_val        float64\n",
       "ove120_val       float64\n",
       "ove180_val       float64\n",
       "ove270_val       float64\n",
       "ove365_val       float64\n",
       "ove730_val       float64\n",
       "neg_stock_val    float64\n",
       "dtype: object"
      ]
     },
     "execution_count": 64,
     "metadata": {},
     "output_type": "execute_result"
    }
   ],
   "source": [
    "frame.dtypes"
   ]
  },
  {
   "cell_type": "code",
   "execution_count": 65,
   "id": "66c852bf",
   "metadata": {},
   "outputs": [
    {
     "data": {
      "text/plain": [
       "main_grp\n",
       "Bakery                        4.18\n",
       "Class 3 -Latex mattress      15.53\n",
       "Class-1 -PU mattress         65.08\n",
       "Electricals                 346.17\n",
       "FMCG                       1825.63\n",
       "Factory Products             60.56\n",
       "Furniture                   316.80\n",
       "General Merchandising       780.01\n",
       "ICON PRODUCTS                 0.00\n",
       "Imports                      -0.02\n",
       "Liquor                      314.11\n",
       "Others                       19.30\n",
       "Pharmacy                     77.34\n",
       "RD groups                    -0.01\n",
       "Name: on_hand_value, dtype: float64"
      ]
     },
     "execution_count": 65,
     "metadata": {},
     "output_type": "execute_result"
    }
   ],
   "source": [
    "frame.groupby(['main_grp'])[\"on_hand_value\"].apply(lambda x : round(x.astype(float).sum()/1000000,2))"
   ]
  },
  {
   "cell_type": "code",
   "execution_count": 66,
   "id": "2234069f",
   "metadata": {},
   "outputs": [
    {
     "data": {
      "text/plain": [
       "3824693891.6279"
      ]
     },
     "execution_count": 66,
     "metadata": {},
     "output_type": "execute_result"
    }
   ],
   "source": [
    "frame['on_hand_value'].sum()"
   ]
  },
  {
   "cell_type": "code",
   "execution_count": 67,
   "id": "31a923d4",
   "metadata": {},
   "outputs": [
    {
     "data": {
      "text/plain": [
       "99"
      ]
     },
     "execution_count": 67,
     "metadata": {},
     "output_type": "execute_result"
    }
   ],
   "source": [
    "## Unique Location Count\n",
    "frame['loc_code'].nunique()"
   ]
  },
  {
   "cell_type": "code",
   "execution_count": 68,
   "id": "0481a990",
   "metadata": {},
   "outputs": [
    {
     "name": "stderr",
     "output_type": "stream",
     "text": [
      "C:\\Users\\pramud.k\\AppData\\Local\\Temp\\ipykernel_10148\\327008992.py:7: DtypeWarning: Columns (8) have mixed types. Specify dtype option on import or set low_memory=False.\n",
      "  df = pd.read_csv(fi, index_col=None, encoding ='latin')\n",
      "C:\\Users\\pramud.k\\AppData\\Local\\Temp\\ipykernel_10148\\327008992.py:9: DtypeWarning: Columns (8) have mixed types. Specify dtype option on import or set low_memory=False.\n",
      "  df = pd.read_csv(fi, index_col=None, header=0 , encoding ='latin')\n",
      "C:\\Users\\pramud.k\\AppData\\Local\\Temp\\ipykernel_10148\\327008992.py:9: DtypeWarning: Columns (8) have mixed types. Specify dtype option on import or set low_memory=False.\n",
      "  df = pd.read_csv(fi, index_col=None, header=0 , encoding ='latin')\n",
      "C:\\Users\\pramud.k\\AppData\\Local\\Temp\\ipykernel_10148\\327008992.py:9: DtypeWarning: Columns (8) have mixed types. Specify dtype option on import or set low_memory=False.\n",
      "  df = pd.read_csv(fi, index_col=None, header=0 , encoding ='latin')\n"
     ]
    }
   ],
   "source": [
    "# HO Stock Checking\n",
    "spath = \"G:\\\\Pramud Office Important\\\\Pramud Updated 21-05-2020\\\\Weekly Stock\\\\28th Feb 2023\\\\HO\\\\\" #  path\n",
    "ho_files = glob.glob(os.path.join(spath , \"*.csv\"))\n",
    "hli = []\n",
    "for fi in ho_files:\n",
    "    if len(hli) == 0:\n",
    "        df = pd.read_csv(fi, index_col=None, encoding ='latin')\n",
    "    else:\n",
    "        df = pd.read_csv(fi, index_col=None, header=0 , encoding ='latin')\n",
    "    hli.append(df)\n",
    "\n",
    "HoStockframe = pd.concat(hli, axis=0, ignore_index=True)"
   ]
  },
  {
   "cell_type": "code",
   "execution_count": 69,
   "id": "7feeed43",
   "metadata": {},
   "outputs": [
    {
     "data": {
      "text/plain": [
       "REP_DATE              object\n",
       "LCAT03                object\n",
       "LOC_CODE               int64\n",
       "LOC_NAME              object\n",
       "PRIM_CLS              object\n",
       "MAIN_GRP              object\n",
       "CATDES                object\n",
       "ITM_GROUP             object\n",
       "PLU_CODE              object\n",
       "ITEM_CODE             object\n",
       "ITM_DESC              object\n",
       "AVG_PRICE            float64\n",
       "TOTAL_STOCK_VALUE    float64\n",
       "TOTAL_STOCK_QTY      float64\n",
       "CUR_VALUE            float64\n",
       "CUR_QTY              float64\n",
       "OVE30_VALUE          float64\n",
       "OVE30_QTY            float64\n",
       "OVE60_VALUE          float64\n",
       "OVE60_QTY            float64\n",
       "OVE90_VALUE          float64\n",
       "OVE90_QTY            float64\n",
       "OVE120_VALUE         float64\n",
       "OVE120_QTY           float64\n",
       "OVE365_VALUE         float64\n",
       "OVE365_QTY           float64\n",
       "OVE730_VALUE         float64\n",
       "OVE730_QTY           float64\n",
       "OVER1825_VALUE       float64\n",
       "OVER1825_QTY         float64\n",
       "NEG_STOCK_VALUE      float64\n",
       "NEG_STOCK_QTY        float64\n",
       "dtype: object"
      ]
     },
     "execution_count": 69,
     "metadata": {},
     "output_type": "execute_result"
    }
   ],
   "source": [
    "HoStockframe.dtypes"
   ]
  },
  {
   "cell_type": "code",
   "execution_count": 70,
   "id": "ae46143d",
   "metadata": {},
   "outputs": [
    {
     "data": {
      "text/plain": [
       "4820054272.676398"
      ]
     },
     "execution_count": 70,
     "metadata": {},
     "output_type": "execute_result"
    }
   ],
   "source": [
    "HoStockframe['TOTAL_STOCK_VALUE'].sum()"
   ]
  },
  {
   "cell_type": "code",
   "execution_count": 71,
   "id": "40ffd0ef",
   "metadata": {},
   "outputs": [
    {
     "data": {
      "text/plain": [
       "1"
      ]
     },
     "execution_count": 71,
     "metadata": {},
     "output_type": "execute_result"
    }
   ],
   "source": [
    "## Unique Location Count\n",
    "frame['rep_date'].nunique()"
   ]
  },
  {
   "cell_type": "code",
   "execution_count": 72,
   "id": "a64a10d8",
   "metadata": {},
   "outputs": [],
   "source": [
    "ff = frame.groupby(['loc_name'])[\"loc_name\"].count()"
   ]
  },
  {
   "cell_type": "code",
   "execution_count": 73,
   "id": "c026bcd3",
   "metadata": {},
   "outputs": [],
   "source": [
    "ff =pd.DataFrame(ff)"
   ]
  },
  {
   "cell_type": "code",
   "execution_count": 74,
   "id": "11e00059",
   "metadata": {},
   "outputs": [
    {
     "data": {
      "text/html": [
       "<div>\n",
       "<style scoped>\n",
       "    .dataframe tbody tr th:only-of-type {\n",
       "        vertical-align: middle;\n",
       "    }\n",
       "\n",
       "    .dataframe tbody tr th {\n",
       "        vertical-align: top;\n",
       "    }\n",
       "\n",
       "    .dataframe thead th {\n",
       "        text-align: right;\n",
       "    }\n",
       "</style>\n",
       "<table border=\"1\" class=\"dataframe\">\n",
       "  <thead>\n",
       "    <tr style=\"text-align: right;\">\n",
       "      <th></th>\n",
       "      <th>loc_name</th>\n",
       "    </tr>\n",
       "    <tr>\n",
       "      <th>loc_name</th>\n",
       "      <th></th>\n",
       "    </tr>\n",
       "  </thead>\n",
       "  <tbody>\n",
       "    <tr>\n",
       "      <th>Ambalangoda Arpico Daily</th>\n",
       "      <td>6771</td>\n",
       "    </tr>\n",
       "    <tr>\n",
       "      <th>Ambathanna Arpico Daily</th>\n",
       "      <td>3675</td>\n",
       "    </tr>\n",
       "    <tr>\n",
       "      <th>Anuradhapura ADA</th>\n",
       "      <td>6952</td>\n",
       "    </tr>\n",
       "    <tr>\n",
       "      <th>Anuradhapura Fur SR</th>\n",
       "      <td>319</td>\n",
       "    </tr>\n",
       "    <tr>\n",
       "      <th>Athurugiriya Arpico Daily</th>\n",
       "      <td>7167</td>\n",
       "    </tr>\n",
       "    <tr>\n",
       "      <th>...</th>\n",
       "      <td>...</td>\n",
       "    </tr>\n",
       "    <tr>\n",
       "      <th>Wellawatta Bakery</th>\n",
       "      <td>1</td>\n",
       "    </tr>\n",
       "    <tr>\n",
       "      <th>Wennappuwa Arpico Daily</th>\n",
       "      <td>6561</td>\n",
       "    </tr>\n",
       "    <tr>\n",
       "      <th>Yakkala Bakery</th>\n",
       "      <td>1</td>\n",
       "    </tr>\n",
       "    <tr>\n",
       "      <th>Yakkala Super Store</th>\n",
       "      <td>12041</td>\n",
       "    </tr>\n",
       "    <tr>\n",
       "      <th>kochchikade Bakery</th>\n",
       "      <td>17</td>\n",
       "    </tr>\n",
       "  </tbody>\n",
       "</table>\n",
       "<p>99 rows × 1 columns</p>\n",
       "</div>"
      ],
      "text/plain": [
       "                           loc_name\n",
       "loc_name                           \n",
       "Ambalangoda Arpico Daily       6771\n",
       "Ambathanna Arpico Daily        3675\n",
       "Anuradhapura ADA               6952\n",
       "Anuradhapura Fur SR             319\n",
       "Athurugiriya Arpico Daily      7167\n",
       "...                             ...\n",
       "Wellawatta Bakery                 1\n",
       "Wennappuwa Arpico Daily        6561\n",
       "Yakkala Bakery                    1\n",
       "Yakkala Super Store           12041\n",
       "kochchikade Bakery               17\n",
       "\n",
       "[99 rows x 1 columns]"
      ]
     },
     "execution_count": 74,
     "metadata": {},
     "output_type": "execute_result"
    }
   ],
   "source": [
    "ff"
   ]
  },
  {
   "cell_type": "code",
   "execution_count": 75,
   "id": "bb5637a4",
   "metadata": {},
   "outputs": [],
   "source": [
    "locstk = frame\n",
    "hostok= HoStockframe"
   ]
  },
  {
   "cell_type": "code",
   "execution_count": 76,
   "id": "7b3a9d62",
   "metadata": {},
   "outputs": [
    {
     "data": {
      "text/plain": [
       "(635916, 35)"
      ]
     },
     "execution_count": 76,
     "metadata": {},
     "output_type": "execute_result"
    }
   ],
   "source": [
    "locstk.shape"
   ]
  },
  {
   "cell_type": "code",
   "execution_count": 77,
   "id": "f252b14e",
   "metadata": {},
   "outputs": [
    {
     "data": {
      "text/plain": [
       "(742789, 32)"
      ]
     },
     "execution_count": 77,
     "metadata": {},
     "output_type": "execute_result"
    }
   ],
   "source": [
    "hostok.shape"
   ]
  },
  {
   "cell_type": "code",
   "execution_count": 78,
   "id": "c64afeb8",
   "metadata": {},
   "outputs": [
    {
     "data": {
      "text/plain": [
       "rep_date          object\n",
       "sbu_code           int64\n",
       "loc_code           int64\n",
       "loc_name          object\n",
       "prim_cls          object\n",
       "main_grp          object\n",
       "catdes            object\n",
       "item_code         object\n",
       "supplier         float64\n",
       "itm_desc          object\n",
       "itm_group         object\n",
       "on_hand_qty      float64\n",
       "avg_price        float64\n",
       "plu_code         float64\n",
       "cur              float64\n",
       "ove30            float64\n",
       "ove60            float64\n",
       "ove90            float64\n",
       "ove120           float64\n",
       "ove180           float64\n",
       "ove270           float64\n",
       "ove365           float64\n",
       "ove730           float64\n",
       "neg_stock        float64\n",
       "on_hand_value    float64\n",
       "cur_val          float64\n",
       "ove30_val        float64\n",
       "ove60_val        float64\n",
       "ove90_val        float64\n",
       "ove120_val       float64\n",
       "ove180_val       float64\n",
       "ove270_val       float64\n",
       "ove365_val       float64\n",
       "ove730_val       float64\n",
       "neg_stock_val    float64\n",
       "dtype: object"
      ]
     },
     "execution_count": 78,
     "metadata": {},
     "output_type": "execute_result"
    }
   ],
   "source": [
    "locstk.dtypes"
   ]
  },
  {
   "cell_type": "code",
   "execution_count": 79,
   "id": "f5c01623",
   "metadata": {},
   "outputs": [
    {
     "data": {
      "text/plain": [
       "REP_DATE              object\n",
       "LCAT03                object\n",
       "LOC_CODE               int64\n",
       "LOC_NAME              object\n",
       "PRIM_CLS              object\n",
       "MAIN_GRP              object\n",
       "CATDES                object\n",
       "ITM_GROUP             object\n",
       "PLU_CODE              object\n",
       "ITEM_CODE             object\n",
       "ITM_DESC              object\n",
       "AVG_PRICE            float64\n",
       "TOTAL_STOCK_VALUE    float64\n",
       "TOTAL_STOCK_QTY      float64\n",
       "CUR_VALUE            float64\n",
       "CUR_QTY              float64\n",
       "OVE30_VALUE          float64\n",
       "OVE30_QTY            float64\n",
       "OVE60_VALUE          float64\n",
       "OVE60_QTY            float64\n",
       "OVE90_VALUE          float64\n",
       "OVE90_QTY            float64\n",
       "OVE120_VALUE         float64\n",
       "OVE120_QTY           float64\n",
       "OVE365_VALUE         float64\n",
       "OVE365_QTY           float64\n",
       "OVE730_VALUE         float64\n",
       "OVE730_QTY           float64\n",
       "OVER1825_VALUE       float64\n",
       "OVER1825_QTY         float64\n",
       "NEG_STOCK_VALUE      float64\n",
       "NEG_STOCK_QTY        float64\n",
       "dtype: object"
      ]
     },
     "execution_count": 79,
     "metadata": {},
     "output_type": "execute_result"
    }
   ],
   "source": [
    "hostok.dtypes"
   ]
  },
  {
   "cell_type": "code",
   "execution_count": 80,
   "id": "f9d712de",
   "metadata": {},
   "outputs": [
    {
     "data": {
      "text/plain": [
       "array([117, 150, 152, 154, 156, 160, 161, 163, 166, 167, 168, 171, 172,\n",
       "       174, 175, 179, 181, 182, 188, 189, 190, 191, 192,  80,  81,  82,\n",
       "       502, 503, 504, 505, 514, 522, 523, 525, 526, 579, 605, 606, 608,\n",
       "       609, 610, 611, 612, 613, 614, 615, 616, 619, 621, 622, 623, 627,\n",
       "       628,  73,  74,  85,  86,   2,   3,   4,   5, 105, 106, 108, 109,\n",
       "       110, 111, 112, 113, 114, 115, 116, 119, 121, 122, 123, 127, 128,\n",
       "        14,  22,  23,  24,  25,  26,  27,  76,  79,   8,   9,  19,  20,\n",
       "        21,  29,  51,  53,  56,  57,  58,  98], dtype=int64)"
      ]
     },
     "execution_count": 80,
     "metadata": {},
     "output_type": "execute_result"
    }
   ],
   "source": [
    "locationEndLocations = locstk['loc_code'].unique()\n",
    "locationEndLocations"
   ]
  },
  {
   "cell_type": "code",
   "execution_count": 81,
   "id": "a45874d7",
   "metadata": {},
   "outputs": [],
   "source": [
    "filteredHOOnlyStock = hostok[~hostok['LOC_CODE'].isin(locationEndLocations)].copy()"
   ]
  },
  {
   "cell_type": "code",
   "execution_count": 82,
   "id": "5a5c69e1",
   "metadata": {},
   "outputs": [
    {
     "data": {
      "text/plain": [
       "(87541, 32)"
      ]
     },
     "execution_count": 82,
     "metadata": {},
     "output_type": "execute_result"
    }
   ],
   "source": [
    "filteredHOOnlyStock.shape"
   ]
  },
  {
   "cell_type": "code",
   "execution_count": 83,
   "id": "d04c3845",
   "metadata": {},
   "outputs": [
    {
     "data": {
      "text/plain": [
       "59"
      ]
     },
     "execution_count": 83,
     "metadata": {},
     "output_type": "execute_result"
    }
   ],
   "source": [
    "filteredHOOnlyStock['LOC_CODE'].nunique()"
   ]
  },
  {
   "cell_type": "code",
   "execution_count": 84,
   "id": "fc960a59",
   "metadata": {},
   "outputs": [
    {
     "data": {
      "text/plain": [
       "99"
      ]
     },
     "execution_count": 84,
     "metadata": {},
     "output_type": "execute_result"
    }
   ],
   "source": [
    "locstk['loc_code'].nunique()"
   ]
  },
  {
   "cell_type": "code",
   "execution_count": 85,
   "id": "61b82285",
   "metadata": {},
   "outputs": [
    {
     "data": {
      "text/plain": [
       "['rep_date',\n",
       " 'sbu_code',\n",
       " 'loc_code',\n",
       " 'loc_name',\n",
       " 'prim_cls',\n",
       " 'main_grp',\n",
       " 'catdes',\n",
       " 'item_code',\n",
       " 'supplier',\n",
       " 'itm_desc',\n",
       " 'itm_group',\n",
       " 'on_hand_qty',\n",
       " 'avg_price',\n",
       " 'plu_code',\n",
       " 'cur',\n",
       " 'ove30',\n",
       " 'ove60',\n",
       " 'ove90',\n",
       " 'ove120',\n",
       " 'ove180',\n",
       " 'ove270',\n",
       " 'ove365',\n",
       " 'ove730',\n",
       " 'neg_stock',\n",
       " 'on_hand_value',\n",
       " 'cur_val',\n",
       " 'ove30_val',\n",
       " 'ove60_val',\n",
       " 'ove90_val',\n",
       " 'ove120_val',\n",
       " 'ove180_val',\n",
       " 'ove270_val',\n",
       " 'ove365_val',\n",
       " 'ove730_val',\n",
       " 'neg_stock_val']"
      ]
     },
     "execution_count": 85,
     "metadata": {},
     "output_type": "execute_result"
    }
   ],
   "source": [
    "list(locstk)"
   ]
  },
  {
   "cell_type": "code",
   "execution_count": 86,
   "id": "9708e0cd",
   "metadata": {},
   "outputs": [
    {
     "data": {
      "text/plain": [
       "['REP_DATE',\n",
       " 'LCAT03',\n",
       " 'LOC_CODE',\n",
       " 'LOC_NAME',\n",
       " 'PRIM_CLS',\n",
       " 'MAIN_GRP',\n",
       " 'CATDES',\n",
       " 'ITM_GROUP',\n",
       " 'PLU_CODE',\n",
       " 'ITEM_CODE',\n",
       " 'ITM_DESC',\n",
       " 'AVG_PRICE',\n",
       " 'TOTAL_STOCK_VALUE',\n",
       " 'TOTAL_STOCK_QTY',\n",
       " 'CUR_VALUE',\n",
       " 'CUR_QTY',\n",
       " 'OVE30_VALUE',\n",
       " 'OVE30_QTY',\n",
       " 'OVE60_VALUE',\n",
       " 'OVE60_QTY',\n",
       " 'OVE90_VALUE',\n",
       " 'OVE90_QTY',\n",
       " 'OVE120_VALUE',\n",
       " 'OVE120_QTY',\n",
       " 'OVE365_VALUE',\n",
       " 'OVE365_QTY',\n",
       " 'OVE730_VALUE',\n",
       " 'OVE730_QTY',\n",
       " 'OVER1825_VALUE',\n",
       " 'OVER1825_QTY',\n",
       " 'NEG_STOCK_VALUE',\n",
       " 'NEG_STOCK_QTY']"
      ]
     },
     "execution_count": 86,
     "metadata": {},
     "output_type": "execute_result"
    }
   ],
   "source": [
    "list(filteredHOOnlyStock)"
   ]
  },
  {
   "cell_type": "code",
   "execution_count": 87,
   "id": "b18fe464",
   "metadata": {},
   "outputs": [],
   "source": [
    "filteredHOOnlyStock.rename(columns = {'OVE730_VALUE':'OVE730_VALUE_OLD', 'OVE730_QTY':'OVE730_QTY_OLD'}, inplace = True)"
   ]
  },
  {
   "cell_type": "code",
   "execution_count": 88,
   "id": "0bda414f",
   "metadata": {},
   "outputs": [
    {
     "data": {
      "text/plain": [
       "['REP_DATE',\n",
       " 'LCAT03',\n",
       " 'LOC_CODE',\n",
       " 'LOC_NAME',\n",
       " 'PRIM_CLS',\n",
       " 'MAIN_GRP',\n",
       " 'CATDES',\n",
       " 'ITM_GROUP',\n",
       " 'PLU_CODE',\n",
       " 'ITEM_CODE',\n",
       " 'ITM_DESC',\n",
       " 'AVG_PRICE',\n",
       " 'TOTAL_STOCK_VALUE',\n",
       " 'TOTAL_STOCK_QTY',\n",
       " 'CUR_VALUE',\n",
       " 'CUR_QTY',\n",
       " 'OVE30_VALUE',\n",
       " 'OVE30_QTY',\n",
       " 'OVE60_VALUE',\n",
       " 'OVE60_QTY',\n",
       " 'OVE90_VALUE',\n",
       " 'OVE90_QTY',\n",
       " 'OVE120_VALUE',\n",
       " 'OVE120_QTY',\n",
       " 'OVE365_VALUE',\n",
       " 'OVE365_QTY',\n",
       " 'OVE730_VALUE_OLD',\n",
       " 'OVE730_QTY_OLD',\n",
       " 'OVER1825_VALUE',\n",
       " 'OVER1825_QTY',\n",
       " 'NEG_STOCK_VALUE',\n",
       " 'NEG_STOCK_QTY']"
      ]
     },
     "execution_count": 88,
     "metadata": {},
     "output_type": "execute_result"
    }
   ],
   "source": [
    "list(filteredHOOnlyStock)"
   ]
  },
  {
   "cell_type": "code",
   "execution_count": 89,
   "id": "238a97bd",
   "metadata": {},
   "outputs": [],
   "source": [
    "filteredHOOnlyStock['ove730']=filteredHOOnlyStock['OVE730_QTY_OLD']+filteredHOOnlyStock['OVER1825_QTY']\n",
    "filteredHOOnlyStock['ove730_val']=filteredHOOnlyStock['OVE730_VALUE_OLD']+filteredHOOnlyStock['OVER1825_VALUE']"
   ]
  },
  {
   "cell_type": "code",
   "execution_count": 90,
   "id": "e7fc0032",
   "metadata": {},
   "outputs": [
    {
     "data": {
      "text/plain": [
       "['REP_DATE',\n",
       " 'LCAT03',\n",
       " 'LOC_CODE',\n",
       " 'LOC_NAME',\n",
       " 'PRIM_CLS',\n",
       " 'MAIN_GRP',\n",
       " 'CATDES',\n",
       " 'ITM_GROUP',\n",
       " 'PLU_CODE',\n",
       " 'ITEM_CODE',\n",
       " 'ITM_DESC',\n",
       " 'AVG_PRICE',\n",
       " 'TOTAL_STOCK_VALUE',\n",
       " 'TOTAL_STOCK_QTY',\n",
       " 'CUR_VALUE',\n",
       " 'CUR_QTY',\n",
       " 'OVE30_VALUE',\n",
       " 'OVE30_QTY',\n",
       " 'OVE60_VALUE',\n",
       " 'OVE60_QTY',\n",
       " 'OVE90_VALUE',\n",
       " 'OVE90_QTY',\n",
       " 'OVE120_VALUE',\n",
       " 'OVE120_QTY',\n",
       " 'OVE365_VALUE',\n",
       " 'OVE365_QTY',\n",
       " 'OVE730_VALUE_OLD',\n",
       " 'OVE730_QTY_OLD',\n",
       " 'OVER1825_VALUE',\n",
       " 'OVER1825_QTY',\n",
       " 'NEG_STOCK_VALUE',\n",
       " 'NEG_STOCK_QTY',\n",
       " 'ove730',\n",
       " 'ove730_val']"
      ]
     },
     "execution_count": 90,
     "metadata": {},
     "output_type": "execute_result"
    }
   ],
   "source": [
    "list(filteredHOOnlyStock)"
   ]
  },
  {
   "cell_type": "code",
   "execution_count": 91,
   "id": "330f3bbd",
   "metadata": {},
   "outputs": [
    {
     "data": {
      "text/plain": [
       "['REP_DATE',\n",
       " 'LCAT03',\n",
       " 'LOC_CODE',\n",
       " 'LOC_NAME',\n",
       " 'PRIM_CLS',\n",
       " 'MAIN_GRP',\n",
       " 'CATDES',\n",
       " 'ITM_GROUP',\n",
       " 'PLU_CODE',\n",
       " 'ITEM_CODE',\n",
       " 'ITM_DESC',\n",
       " 'AVG_PRICE',\n",
       " 'TOTAL_STOCK_VALUE',\n",
       " 'TOTAL_STOCK_QTY',\n",
       " 'CUR_VALUE',\n",
       " 'CUR_QTY',\n",
       " 'OVE30_VALUE',\n",
       " 'OVE30_QTY',\n",
       " 'OVE60_VALUE',\n",
       " 'OVE60_QTY',\n",
       " 'OVE90_VALUE',\n",
       " 'OVE90_QTY',\n",
       " 'OVE120_VALUE',\n",
       " 'OVE120_QTY',\n",
       " 'OVE365_VALUE',\n",
       " 'OVE365_QTY',\n",
       " 'NEG_STOCK_VALUE',\n",
       " 'NEG_STOCK_QTY',\n",
       " 'ove730',\n",
       " 'ove730_val']"
      ]
     },
     "execution_count": 91,
     "metadata": {},
     "output_type": "execute_result"
    }
   ],
   "source": [
    "filteredHOOnlyStock.drop('OVER1825_VALUE',axis=1, inplace=True )\n",
    "filteredHOOnlyStock.drop('OVER1825_QTY',axis=1, inplace=True)\n",
    "filteredHOOnlyStock.drop('OVE730_VALUE_OLD',axis=1, inplace=True )\n",
    "filteredHOOnlyStock.drop('OVE730_QTY_OLD',axis=1, inplace=True)\n",
    "list(filteredHOOnlyStock)"
   ]
  },
  {
   "cell_type": "code",
   "execution_count": 92,
   "id": "768ad6d5",
   "metadata": {},
   "outputs": [],
   "source": [
    "# add additonal Columns to the sheet\n",
    "filteredHOOnlyStock['ove180']=0\n",
    "filteredHOOnlyStock['ove180_val']=0\n",
    "filteredHOOnlyStock['ove270']=0\n",
    "filteredHOOnlyStock['ove270_val']=0\n",
    "filteredHOOnlyStock['sbu_code']=830\n",
    "filteredHOOnlyStock['supplier']=0"
   ]
  },
  {
   "cell_type": "code",
   "execution_count": 93,
   "id": "73a41e8a",
   "metadata": {},
   "outputs": [
    {
     "data": {
      "text/plain": [
       "['REP_DATE',\n",
       " 'LCAT03',\n",
       " 'LOC_CODE',\n",
       " 'LOC_NAME',\n",
       " 'PRIM_CLS',\n",
       " 'MAIN_GRP',\n",
       " 'CATDES',\n",
       " 'ITM_GROUP',\n",
       " 'PLU_CODE',\n",
       " 'ITEM_CODE',\n",
       " 'ITM_DESC',\n",
       " 'AVG_PRICE',\n",
       " 'TOTAL_STOCK_VALUE',\n",
       " 'TOTAL_STOCK_QTY',\n",
       " 'CUR_VALUE',\n",
       " 'CUR_QTY',\n",
       " 'OVE30_VALUE',\n",
       " 'OVE30_QTY',\n",
       " 'OVE60_VALUE',\n",
       " 'OVE60_QTY',\n",
       " 'OVE90_VALUE',\n",
       " 'OVE90_QTY',\n",
       " 'OVE120_VALUE',\n",
       " 'OVE120_QTY',\n",
       " 'OVE365_VALUE',\n",
       " 'OVE365_QTY',\n",
       " 'NEG_STOCK_VALUE',\n",
       " 'NEG_STOCK_QTY',\n",
       " 'ove730',\n",
       " 'ove730_val',\n",
       " 'ove180',\n",
       " 'ove180_val',\n",
       " 'ove270',\n",
       " 'ove270_val',\n",
       " 'sbu_code',\n",
       " 'supplier']"
      ]
     },
     "execution_count": 93,
     "metadata": {},
     "output_type": "execute_result"
    }
   ],
   "source": [
    "list(filteredHOOnlyStock)"
   ]
  },
  {
   "cell_type": "code",
   "execution_count": 94,
   "id": "50962c75",
   "metadata": {},
   "outputs": [],
   "source": [
    "filteredHOOnlyStock.drop('LCAT03',axis=1, inplace=True)"
   ]
  },
  {
   "cell_type": "code",
   "execution_count": 95,
   "id": "2d9616d7",
   "metadata": {},
   "outputs": [
    {
     "data": {
      "text/plain": [
       "['REP_DATE',\n",
       " 'LOC_CODE',\n",
       " 'LOC_NAME',\n",
       " 'PRIM_CLS',\n",
       " 'MAIN_GRP',\n",
       " 'CATDES',\n",
       " 'ITM_GROUP',\n",
       " 'PLU_CODE',\n",
       " 'ITEM_CODE',\n",
       " 'ITM_DESC',\n",
       " 'AVG_PRICE',\n",
       " 'TOTAL_STOCK_VALUE',\n",
       " 'TOTAL_STOCK_QTY',\n",
       " 'CUR_VALUE',\n",
       " 'CUR_QTY',\n",
       " 'OVE30_VALUE',\n",
       " 'OVE30_QTY',\n",
       " 'OVE60_VALUE',\n",
       " 'OVE60_QTY',\n",
       " 'OVE90_VALUE',\n",
       " 'OVE90_QTY',\n",
       " 'OVE120_VALUE',\n",
       " 'OVE120_QTY',\n",
       " 'OVE365_VALUE',\n",
       " 'OVE365_QTY',\n",
       " 'NEG_STOCK_VALUE',\n",
       " 'NEG_STOCK_QTY',\n",
       " 'ove730',\n",
       " 'ove730_val',\n",
       " 'ove180',\n",
       " 'ove180_val',\n",
       " 'ove270',\n",
       " 'ove270_val',\n",
       " 'sbu_code',\n",
       " 'supplier']"
      ]
     },
     "execution_count": 95,
     "metadata": {},
     "output_type": "execute_result"
    }
   ],
   "source": [
    "list(filteredHOOnlyStock)"
   ]
  },
  {
   "cell_type": "code",
   "execution_count": 96,
   "id": "6809983c",
   "metadata": {},
   "outputs": [],
   "source": [
    "columnOrder = ['REP_DATE',\n",
    " 'sbu_code',\n",
    " 'LOC_CODE',\n",
    " 'LOC_NAME',\n",
    " 'PRIM_CLS',\n",
    " 'MAIN_GRP',\n",
    " 'CATDES',\n",
    " 'ITEM_CODE',\n",
    " 'supplier',\n",
    " 'ITM_DESC',\n",
    " 'ITM_GROUP',\n",
    " 'TOTAL_STOCK_QTY',\n",
    " 'AVG_PRICE',\n",
    " 'PLU_CODE',\n",
    " 'CUR_QTY',\n",
    " 'OVE30_QTY',\n",
    " 'OVE60_QTY',\n",
    " 'OVE90_QTY',\n",
    " 'OVE120_QTY',\n",
    " 'ove180',\n",
    " 'ove270',\n",
    " 'OVE365_QTY',\n",
    " 'ove730',\n",
    " 'NEG_STOCK_QTY',\n",
    " 'TOTAL_STOCK_VALUE',\n",
    " 'CUR_VALUE',\n",
    " 'OVE30_VALUE',\n",
    " 'OVE60_VALUE',\n",
    " 'OVE90_VALUE',\n",
    " 'OVE120_VALUE',\n",
    " 'ove180_val',\n",
    " 'ove270_val',\n",
    " 'OVE365_VALUE',\n",
    " 'ove730_val',\n",
    " 'NEG_STOCK_VALUE',\n",
    "]"
   ]
  },
  {
   "cell_type": "code",
   "execution_count": 97,
   "id": "868ba14e",
   "metadata": {},
   "outputs": [
    {
     "data": {
      "text/plain": [
       "['REP_DATE',\n",
       " 'sbu_code',\n",
       " 'LOC_CODE',\n",
       " 'LOC_NAME',\n",
       " 'PRIM_CLS',\n",
       " 'MAIN_GRP',\n",
       " 'CATDES',\n",
       " 'ITEM_CODE',\n",
       " 'supplier',\n",
       " 'ITM_DESC',\n",
       " 'ITM_GROUP',\n",
       " 'TOTAL_STOCK_QTY',\n",
       " 'AVG_PRICE',\n",
       " 'PLU_CODE',\n",
       " 'CUR_QTY',\n",
       " 'OVE30_QTY',\n",
       " 'OVE60_QTY',\n",
       " 'OVE90_QTY',\n",
       " 'OVE120_QTY',\n",
       " 'ove180',\n",
       " 'ove270',\n",
       " 'OVE365_QTY',\n",
       " 'ove730',\n",
       " 'NEG_STOCK_QTY',\n",
       " 'TOTAL_STOCK_VALUE',\n",
       " 'CUR_VALUE',\n",
       " 'OVE30_VALUE',\n",
       " 'OVE60_VALUE',\n",
       " 'OVE90_VALUE',\n",
       " 'OVE120_VALUE',\n",
       " 'ove180_val',\n",
       " 'ove270_val',\n",
       " 'OVE365_VALUE',\n",
       " 'ove730_val',\n",
       " 'NEG_STOCK_VALUE']"
      ]
     },
     "execution_count": 97,
     "metadata": {},
     "output_type": "execute_result"
    }
   ],
   "source": [
    "columnOrder"
   ]
  },
  {
   "cell_type": "code",
   "execution_count": 98,
   "id": "0d0ecf46",
   "metadata": {},
   "outputs": [
    {
     "data": {
      "text/html": [
       "<div>\n",
       "<style scoped>\n",
       "    .dataframe tbody tr th:only-of-type {\n",
       "        vertical-align: middle;\n",
       "    }\n",
       "\n",
       "    .dataframe tbody tr th {\n",
       "        vertical-align: top;\n",
       "    }\n",
       "\n",
       "    .dataframe thead th {\n",
       "        text-align: right;\n",
       "    }\n",
       "</style>\n",
       "<table border=\"1\" class=\"dataframe\">\n",
       "  <thead>\n",
       "    <tr style=\"text-align: right;\">\n",
       "      <th></th>\n",
       "      <th>REP_DATE</th>\n",
       "      <th>sbu_code</th>\n",
       "      <th>LOC_CODE</th>\n",
       "      <th>LOC_NAME</th>\n",
       "      <th>PRIM_CLS</th>\n",
       "      <th>MAIN_GRP</th>\n",
       "      <th>CATDES</th>\n",
       "      <th>ITEM_CODE</th>\n",
       "      <th>supplier</th>\n",
       "      <th>ITM_DESC</th>\n",
       "      <th>...</th>\n",
       "      <th>CUR_VALUE</th>\n",
       "      <th>OVE30_VALUE</th>\n",
       "      <th>OVE60_VALUE</th>\n",
       "      <th>OVE90_VALUE</th>\n",
       "      <th>OVE120_VALUE</th>\n",
       "      <th>ove180_val</th>\n",
       "      <th>ove270_val</th>\n",
       "      <th>OVE365_VALUE</th>\n",
       "      <th>ove730_val</th>\n",
       "      <th>NEG_STOCK_VALUE</th>\n",
       "    </tr>\n",
       "  </thead>\n",
       "  <tbody>\n",
       "    <tr>\n",
       "      <th>0</th>\n",
       "      <td>2/28/2023</td>\n",
       "      <td>830</td>\n",
       "      <td>15</td>\n",
       "      <td>Bargain Store</td>\n",
       "      <td>B</td>\n",
       "      <td>Electricals</td>\n",
       "      <td>CFL Bulbs</td>\n",
       "      <td>3U18WDLB225S</td>\n",
       "      <td>0</td>\n",
       "      <td>3U 18W DL B22 05 STAR</td>\n",
       "      <td>...</td>\n",
       "      <td>0.0</td>\n",
       "      <td>0.0</td>\n",
       "      <td>0.0</td>\n",
       "      <td>0.0</td>\n",
       "      <td>0.00</td>\n",
       "      <td>0</td>\n",
       "      <td>0</td>\n",
       "      <td>0.0</td>\n",
       "      <td>0.0</td>\n",
       "      <td>-979.96</td>\n",
       "    </tr>\n",
       "    <tr>\n",
       "      <th>1</th>\n",
       "      <td>2/28/2023</td>\n",
       "      <td>830</td>\n",
       "      <td>15</td>\n",
       "      <td>Bargain Store</td>\n",
       "      <td>B</td>\n",
       "      <td>Electricals</td>\n",
       "      <td>CFL Bulbs</td>\n",
       "      <td>3U14WDLB225S</td>\n",
       "      <td>0</td>\n",
       "      <td>3U 14W DAYLIGHT B22 05 STAR</td>\n",
       "      <td>...</td>\n",
       "      <td>0.0</td>\n",
       "      <td>0.0</td>\n",
       "      <td>0.0</td>\n",
       "      <td>0.0</td>\n",
       "      <td>0.00</td>\n",
       "      <td>0</td>\n",
       "      <td>0</td>\n",
       "      <td>0.0</td>\n",
       "      <td>0.0</td>\n",
       "      <td>-2239.00</td>\n",
       "    </tr>\n",
       "    <tr>\n",
       "      <th>2</th>\n",
       "      <td>2/28/2023</td>\n",
       "      <td>830</td>\n",
       "      <td>15</td>\n",
       "      <td>Bargain Store</td>\n",
       "      <td>B</td>\n",
       "      <td>Electricals</td>\n",
       "      <td>CFL Bulbs</td>\n",
       "      <td>SFSP14WDLB22</td>\n",
       "      <td>0</td>\n",
       "      <td>SMO FREE HSP CFL 14W DLB22</td>\n",
       "      <td>...</td>\n",
       "      <td>0.0</td>\n",
       "      <td>0.0</td>\n",
       "      <td>0.0</td>\n",
       "      <td>0.0</td>\n",
       "      <td>0.00</td>\n",
       "      <td>0</td>\n",
       "      <td>0</td>\n",
       "      <td>0.0</td>\n",
       "      <td>0.0</td>\n",
       "      <td>-4478.16</td>\n",
       "    </tr>\n",
       "    <tr>\n",
       "      <th>3</th>\n",
       "      <td>2/28/2023</td>\n",
       "      <td>830</td>\n",
       "      <td>15</td>\n",
       "      <td>Bargain Store</td>\n",
       "      <td>B</td>\n",
       "      <td>Electricals</td>\n",
       "      <td>CFL Bulbs</td>\n",
       "      <td>SFSP14WDLE27</td>\n",
       "      <td>0</td>\n",
       "      <td>SMO FREE HSP CFL 14W DLE27</td>\n",
       "      <td>...</td>\n",
       "      <td>0.0</td>\n",
       "      <td>0.0</td>\n",
       "      <td>0.0</td>\n",
       "      <td>0.0</td>\n",
       "      <td>0.00</td>\n",
       "      <td>0</td>\n",
       "      <td>0</td>\n",
       "      <td>0.0</td>\n",
       "      <td>0.0</td>\n",
       "      <td>-1672.00</td>\n",
       "    </tr>\n",
       "    <tr>\n",
       "      <th>4</th>\n",
       "      <td>2/28/2023</td>\n",
       "      <td>830</td>\n",
       "      <td>15</td>\n",
       "      <td>Bargain Store</td>\n",
       "      <td>B</td>\n",
       "      <td>Electricals</td>\n",
       "      <td>Electronics</td>\n",
       "      <td>LPIED004</td>\n",
       "      <td>0</td>\n",
       "      <td>RECHARGEABLE LED TORCH WITH SO</td>\n",
       "      <td>...</td>\n",
       "      <td>0.0</td>\n",
       "      <td>0.0</td>\n",
       "      <td>0.0</td>\n",
       "      <td>0.0</td>\n",
       "      <td>1506.42</td>\n",
       "      <td>0</td>\n",
       "      <td>0</td>\n",
       "      <td>0.0</td>\n",
       "      <td>0.0</td>\n",
       "      <td>0.00</td>\n",
       "    </tr>\n",
       "  </tbody>\n",
       "</table>\n",
       "<p>5 rows × 35 columns</p>\n",
       "</div>"
      ],
      "text/plain": [
       "    REP_DATE  sbu_code  LOC_CODE       LOC_NAME PRIM_CLS     MAIN_GRP  \\\n",
       "0  2/28/2023       830        15  Bargain Store        B  Electricals   \n",
       "1  2/28/2023       830        15  Bargain Store        B  Electricals   \n",
       "2  2/28/2023       830        15  Bargain Store        B  Electricals   \n",
       "3  2/28/2023       830        15  Bargain Store        B  Electricals   \n",
       "4  2/28/2023       830        15  Bargain Store        B  Electricals   \n",
       "\n",
       "        CATDES     ITEM_CODE  supplier                        ITM_DESC  ...  \\\n",
       "0    CFL Bulbs  3U18WDLB225S         0           3U 18W DL B22 05 STAR  ...   \n",
       "1    CFL Bulbs  3U14WDLB225S         0     3U 14W DAYLIGHT B22 05 STAR  ...   \n",
       "2    CFL Bulbs  SFSP14WDLB22         0      SMO FREE HSP CFL 14W DLB22  ...   \n",
       "3    CFL Bulbs  SFSP14WDLE27         0      SMO FREE HSP CFL 14W DLE27  ...   \n",
       "4  Electronics      LPIED004         0  RECHARGEABLE LED TORCH WITH SO  ...   \n",
       "\n",
       "  CUR_VALUE  OVE30_VALUE  OVE60_VALUE OVE90_VALUE  OVE120_VALUE  ove180_val  \\\n",
       "0       0.0          0.0          0.0         0.0          0.00           0   \n",
       "1       0.0          0.0          0.0         0.0          0.00           0   \n",
       "2       0.0          0.0          0.0         0.0          0.00           0   \n",
       "3       0.0          0.0          0.0         0.0          0.00           0   \n",
       "4       0.0          0.0          0.0         0.0       1506.42           0   \n",
       "\n",
       "   ove270_val  OVE365_VALUE  ove730_val  NEG_STOCK_VALUE  \n",
       "0           0           0.0         0.0          -979.96  \n",
       "1           0           0.0         0.0         -2239.00  \n",
       "2           0           0.0         0.0         -4478.16  \n",
       "3           0           0.0         0.0         -1672.00  \n",
       "4           0           0.0         0.0             0.00  \n",
       "\n",
       "[5 rows x 35 columns]"
      ]
     },
     "execution_count": 98,
     "metadata": {},
     "output_type": "execute_result"
    }
   ],
   "source": [
    "columnOrderedStock = filteredHOOnlyStock[columnOrder].copy()\n",
    "columnOrderedStock.head()"
   ]
  },
  {
   "cell_type": "code",
   "execution_count": 99,
   "id": "f25e7dac",
   "metadata": {},
   "outputs": [
    {
     "data": {
      "text/html": [
       "<div>\n",
       "<style scoped>\n",
       "    .dataframe tbody tr th:only-of-type {\n",
       "        vertical-align: middle;\n",
       "    }\n",
       "\n",
       "    .dataframe tbody tr th {\n",
       "        vertical-align: top;\n",
       "    }\n",
       "\n",
       "    .dataframe thead th {\n",
       "        text-align: right;\n",
       "    }\n",
       "</style>\n",
       "<table border=\"1\" class=\"dataframe\">\n",
       "  <thead>\n",
       "    <tr style=\"text-align: right;\">\n",
       "      <th></th>\n",
       "      <th>rep_date</th>\n",
       "      <th>sbu_code</th>\n",
       "      <th>loc_code</th>\n",
       "      <th>loc_name</th>\n",
       "      <th>prim_cls</th>\n",
       "      <th>main_grp</th>\n",
       "      <th>catdes</th>\n",
       "      <th>item_code</th>\n",
       "      <th>supplier</th>\n",
       "      <th>itm_desc</th>\n",
       "      <th>...</th>\n",
       "      <th>cur_val</th>\n",
       "      <th>ove30_val</th>\n",
       "      <th>ove60_val</th>\n",
       "      <th>ove90_val</th>\n",
       "      <th>ove120_val</th>\n",
       "      <th>ove180_val</th>\n",
       "      <th>ove270_val</th>\n",
       "      <th>ove365_val</th>\n",
       "      <th>ove730_val</th>\n",
       "      <th>neg_stock_val</th>\n",
       "    </tr>\n",
       "  </thead>\n",
       "  <tbody>\n",
       "    <tr>\n",
       "      <th>0</th>\n",
       "      <td>2023-02-28</td>\n",
       "      <td>830</td>\n",
       "      <td>117</td>\n",
       "      <td>Wattala 2 SS</td>\n",
       "      <td>B</td>\n",
       "      <td>Electricals</td>\n",
       "      <td>Electronics</td>\n",
       "      <td>LPERKDKN56RG</td>\n",
       "      <td>200001.0</td>\n",
       "      <td>KDK CEILING FAN N56RG</td>\n",
       "      <td>...</td>\n",
       "      <td>0.0</td>\n",
       "      <td>0.0</td>\n",
       "      <td>0.0</td>\n",
       "      <td>0.0</td>\n",
       "      <td>0.0</td>\n",
       "      <td>0.0</td>\n",
       "      <td>13155.01</td>\n",
       "      <td>0.0</td>\n",
       "      <td>0.0000</td>\n",
       "      <td>0.0</td>\n",
       "    </tr>\n",
       "    <tr>\n",
       "      <th>1</th>\n",
       "      <td>2023-02-28</td>\n",
       "      <td>830</td>\n",
       "      <td>117</td>\n",
       "      <td>Wattala 2 SS</td>\n",
       "      <td>B</td>\n",
       "      <td>Electricals</td>\n",
       "      <td>Electronics</td>\n",
       "      <td>LPRTDPF1104A</td>\n",
       "      <td>100521.0</td>\n",
       "      <td>DP RECHARGEABLE FAN 12 INCH</td>\n",
       "      <td>...</td>\n",
       "      <td>0.0</td>\n",
       "      <td>0.0</td>\n",
       "      <td>0.0</td>\n",
       "      <td>0.0</td>\n",
       "      <td>47000.0</td>\n",
       "      <td>0.0</td>\n",
       "      <td>0.00</td>\n",
       "      <td>0.0</td>\n",
       "      <td>0.0000</td>\n",
       "      <td>0.0</td>\n",
       "    </tr>\n",
       "    <tr>\n",
       "      <th>2</th>\n",
       "      <td>2023-02-28</td>\n",
       "      <td>830</td>\n",
       "      <td>117</td>\n",
       "      <td>Wattala 2 SS</td>\n",
       "      <td>B</td>\n",
       "      <td>Electricals</td>\n",
       "      <td>Electronics</td>\n",
       "      <td>LPRTDPLED762</td>\n",
       "      <td>100521.0</td>\n",
       "      <td>RECHARGEABLE FAN 7 INCH</td>\n",
       "      <td>...</td>\n",
       "      <td>0.0</td>\n",
       "      <td>0.0</td>\n",
       "      <td>0.0</td>\n",
       "      <td>0.0</td>\n",
       "      <td>14000.0</td>\n",
       "      <td>0.0</td>\n",
       "      <td>0.00</td>\n",
       "      <td>0.0</td>\n",
       "      <td>0.0000</td>\n",
       "      <td>0.0</td>\n",
       "    </tr>\n",
       "    <tr>\n",
       "      <th>3</th>\n",
       "      <td>2023-02-28</td>\n",
       "      <td>830</td>\n",
       "      <td>117</td>\n",
       "      <td>Wattala 2 SS</td>\n",
       "      <td>B</td>\n",
       "      <td>Electricals</td>\n",
       "      <td>Electronics</td>\n",
       "      <td>LPSLWF1608R</td>\n",
       "      <td>299.0</td>\n",
       "      <td>SINGER WALL FAN</td>\n",
       "      <td>...</td>\n",
       "      <td>0.0</td>\n",
       "      <td>0.0</td>\n",
       "      <td>0.0</td>\n",
       "      <td>0.0</td>\n",
       "      <td>0.0</td>\n",
       "      <td>0.0</td>\n",
       "      <td>0.00</td>\n",
       "      <td>0.0</td>\n",
       "      <td>7208.1005</td>\n",
       "      <td>0.0</td>\n",
       "    </tr>\n",
       "    <tr>\n",
       "      <th>4</th>\n",
       "      <td>2023-02-28</td>\n",
       "      <td>830</td>\n",
       "      <td>117</td>\n",
       "      <td>Wattala 2 SS</td>\n",
       "      <td>B</td>\n",
       "      <td>Electricals</td>\n",
       "      <td>Electronics</td>\n",
       "      <td>TCR-SF1638</td>\n",
       "      <td>100531.0</td>\n",
       "      <td>TECRO STAND FAN</td>\n",
       "      <td>...</td>\n",
       "      <td>0.0</td>\n",
       "      <td>0.0</td>\n",
       "      <td>0.0</td>\n",
       "      <td>0.0</td>\n",
       "      <td>0.0</td>\n",
       "      <td>0.0</td>\n",
       "      <td>6088.61</td>\n",
       "      <td>0.0</td>\n",
       "      <td>0.0000</td>\n",
       "      <td>0.0</td>\n",
       "    </tr>\n",
       "  </tbody>\n",
       "</table>\n",
       "<p>5 rows × 35 columns</p>\n",
       "</div>"
      ],
      "text/plain": [
       "     rep_date  sbu_code  loc_code      loc_name prim_cls     main_grp  \\\n",
       "0  2023-02-28       830       117  Wattala 2 SS        B  Electricals   \n",
       "1  2023-02-28       830       117  Wattala 2 SS        B  Electricals   \n",
       "2  2023-02-28       830       117  Wattala 2 SS        B  Electricals   \n",
       "3  2023-02-28       830       117  Wattala 2 SS        B  Electricals   \n",
       "4  2023-02-28       830       117  Wattala 2 SS        B  Electricals   \n",
       "\n",
       "        catdes     item_code  supplier                     itm_desc  ...  \\\n",
       "0  Electronics  LPERKDKN56RG  200001.0        KDK CEILING FAN N56RG  ...   \n",
       "1  Electronics  LPRTDPF1104A  100521.0  DP RECHARGEABLE FAN 12 INCH  ...   \n",
       "2  Electronics  LPRTDPLED762  100521.0      RECHARGEABLE FAN 7 INCH  ...   \n",
       "3  Electronics   LPSLWF1608R     299.0              SINGER WALL FAN  ...   \n",
       "4  Electronics    TCR-SF1638  100531.0              TECRO STAND FAN  ...   \n",
       "\n",
       "  cur_val  ove30_val  ove60_val  ove90_val  ove120_val  ove180_val  \\\n",
       "0     0.0        0.0        0.0        0.0         0.0         0.0   \n",
       "1     0.0        0.0        0.0        0.0     47000.0         0.0   \n",
       "2     0.0        0.0        0.0        0.0     14000.0         0.0   \n",
       "3     0.0        0.0        0.0        0.0         0.0         0.0   \n",
       "4     0.0        0.0        0.0        0.0         0.0         0.0   \n",
       "\n",
       "   ove270_val  ove365_val  ove730_val  neg_stock_val  \n",
       "0    13155.01         0.0      0.0000            0.0  \n",
       "1        0.00         0.0      0.0000            0.0  \n",
       "2        0.00         0.0      0.0000            0.0  \n",
       "3        0.00         0.0   7208.1005            0.0  \n",
       "4     6088.61         0.0      0.0000            0.0  \n",
       "\n",
       "[5 rows x 35 columns]"
      ]
     },
     "execution_count": 99,
     "metadata": {},
     "output_type": "execute_result"
    }
   ],
   "source": [
    "locstk.head()"
   ]
  },
  {
   "cell_type": "code",
   "execution_count": 100,
   "id": "11a3cc13",
   "metadata": {},
   "outputs": [],
   "source": [
    "# rename all columns\n",
    "columnOrderedStock.columns =  ['rep_date',\n",
    " 'sbu_code',\n",
    " 'loc_code',\n",
    " 'loc_name',\n",
    " 'prim_cls',\n",
    " 'main_grp',\n",
    " 'catdes',\n",
    " 'item_code',\n",
    " 'supplier',\n",
    " 'itm_desc',\n",
    " 'itm_group',\n",
    " 'on_hand_qty',\n",
    " 'avg_price',\n",
    " 'plu_code',\n",
    " 'cur',\n",
    " 'ove30',\n",
    " 'ove60',\n",
    " 'ove90',\n",
    " 'ove120',\n",
    " 'ove180',\n",
    " 'ove270',\n",
    " 'ove365',\n",
    " 'ove730',\n",
    " 'neg_stock',\n",
    " 'on_hand_value',\n",
    " 'cur_val',\n",
    " 'ove30_val',\n",
    " 'ove60_val',\n",
    " 'ove90_val',\n",
    " 'ove120_val',\n",
    " 'ove180_val',\n",
    " 'ove270_val',\n",
    " 'ove365_val',\n",
    " 'ove730_val',\n",
    " 'neg_stock_val'] "
   ]
  },
  {
   "cell_type": "code",
   "execution_count": 101,
   "id": "ba117a82",
   "metadata": {},
   "outputs": [
    {
     "data": {
      "text/plain": [
       "['rep_date',\n",
       " 'sbu_code',\n",
       " 'loc_code',\n",
       " 'loc_name',\n",
       " 'prim_cls',\n",
       " 'main_grp',\n",
       " 'catdes',\n",
       " 'item_code',\n",
       " 'supplier',\n",
       " 'itm_desc',\n",
       " 'itm_group',\n",
       " 'on_hand_qty',\n",
       " 'avg_price',\n",
       " 'plu_code',\n",
       " 'cur',\n",
       " 'ove30',\n",
       " 'ove60',\n",
       " 'ove90',\n",
       " 'ove120',\n",
       " 'ove180',\n",
       " 'ove270',\n",
       " 'ove365',\n",
       " 'ove730',\n",
       " 'neg_stock',\n",
       " 'on_hand_value',\n",
       " 'cur_val',\n",
       " 'ove30_val',\n",
       " 'ove60_val',\n",
       " 'ove90_val',\n",
       " 'ove120_val',\n",
       " 'ove180_val',\n",
       " 'ove270_val',\n",
       " 'ove365_val',\n",
       " 'ove730_val',\n",
       " 'neg_stock_val']"
      ]
     },
     "execution_count": 101,
     "metadata": {},
     "output_type": "execute_result"
    }
   ],
   "source": [
    "list(columnOrderedStock)"
   ]
  },
  {
   "cell_type": "code",
   "execution_count": 102,
   "id": "b1e543c8",
   "metadata": {},
   "outputs": [],
   "source": [
    "MergedStock = pd.concat([locstk, columnOrderedStock], ignore_index=True)"
   ]
  },
  {
   "cell_type": "code",
   "execution_count": 103,
   "id": "ec93508f",
   "metadata": {},
   "outputs": [
    {
     "data": {
      "text/plain": [
       "(723457, 35)"
      ]
     },
     "execution_count": 103,
     "metadata": {},
     "output_type": "execute_result"
    }
   ],
   "source": [
    "MergedStock.shape"
   ]
  },
  {
   "cell_type": "code",
   "execution_count": 104,
   "id": "7e9d3fd4",
   "metadata": {
    "scrolled": true
   },
   "outputs": [
    {
     "data": {
      "text/html": [
       "<div>\n",
       "<style scoped>\n",
       "    .dataframe tbody tr th:only-of-type {\n",
       "        vertical-align: middle;\n",
       "    }\n",
       "\n",
       "    .dataframe tbody tr th {\n",
       "        vertical-align: top;\n",
       "    }\n",
       "\n",
       "    .dataframe thead th {\n",
       "        text-align: right;\n",
       "    }\n",
       "</style>\n",
       "<table border=\"1\" class=\"dataframe\">\n",
       "  <thead>\n",
       "    <tr style=\"text-align: right;\">\n",
       "      <th></th>\n",
       "      <th>rep_date</th>\n",
       "      <th>sbu_code</th>\n",
       "      <th>loc_code</th>\n",
       "      <th>loc_name</th>\n",
       "      <th>prim_cls</th>\n",
       "      <th>main_grp</th>\n",
       "      <th>catdes</th>\n",
       "      <th>item_code</th>\n",
       "      <th>supplier</th>\n",
       "      <th>itm_desc</th>\n",
       "      <th>...</th>\n",
       "      <th>cur_val</th>\n",
       "      <th>ove30_val</th>\n",
       "      <th>ove60_val</th>\n",
       "      <th>ove90_val</th>\n",
       "      <th>ove120_val</th>\n",
       "      <th>ove180_val</th>\n",
       "      <th>ove270_val</th>\n",
       "      <th>ove365_val</th>\n",
       "      <th>ove730_val</th>\n",
       "      <th>neg_stock_val</th>\n",
       "    </tr>\n",
       "  </thead>\n",
       "  <tbody>\n",
       "    <tr>\n",
       "      <th>0</th>\n",
       "      <td>2023-02-28</td>\n",
       "      <td>830</td>\n",
       "      <td>117</td>\n",
       "      <td>Wattala 2 SS</td>\n",
       "      <td>B</td>\n",
       "      <td>Electricals</td>\n",
       "      <td>Electronics</td>\n",
       "      <td>LPERKDKN56RG</td>\n",
       "      <td>200001.0</td>\n",
       "      <td>KDK CEILING FAN N56RG</td>\n",
       "      <td>...</td>\n",
       "      <td>0.0</td>\n",
       "      <td>0.0</td>\n",
       "      <td>0.0</td>\n",
       "      <td>0.0</td>\n",
       "      <td>0.0</td>\n",
       "      <td>0.0</td>\n",
       "      <td>13155.01</td>\n",
       "      <td>0.0</td>\n",
       "      <td>0.0000</td>\n",
       "      <td>0.0</td>\n",
       "    </tr>\n",
       "    <tr>\n",
       "      <th>1</th>\n",
       "      <td>2023-02-28</td>\n",
       "      <td>830</td>\n",
       "      <td>117</td>\n",
       "      <td>Wattala 2 SS</td>\n",
       "      <td>B</td>\n",
       "      <td>Electricals</td>\n",
       "      <td>Electronics</td>\n",
       "      <td>LPRTDPF1104A</td>\n",
       "      <td>100521.0</td>\n",
       "      <td>DP RECHARGEABLE FAN 12 INCH</td>\n",
       "      <td>...</td>\n",
       "      <td>0.0</td>\n",
       "      <td>0.0</td>\n",
       "      <td>0.0</td>\n",
       "      <td>0.0</td>\n",
       "      <td>47000.0</td>\n",
       "      <td>0.0</td>\n",
       "      <td>0.00</td>\n",
       "      <td>0.0</td>\n",
       "      <td>0.0000</td>\n",
       "      <td>0.0</td>\n",
       "    </tr>\n",
       "    <tr>\n",
       "      <th>2</th>\n",
       "      <td>2023-02-28</td>\n",
       "      <td>830</td>\n",
       "      <td>117</td>\n",
       "      <td>Wattala 2 SS</td>\n",
       "      <td>B</td>\n",
       "      <td>Electricals</td>\n",
       "      <td>Electronics</td>\n",
       "      <td>LPRTDPLED762</td>\n",
       "      <td>100521.0</td>\n",
       "      <td>RECHARGEABLE FAN 7 INCH</td>\n",
       "      <td>...</td>\n",
       "      <td>0.0</td>\n",
       "      <td>0.0</td>\n",
       "      <td>0.0</td>\n",
       "      <td>0.0</td>\n",
       "      <td>14000.0</td>\n",
       "      <td>0.0</td>\n",
       "      <td>0.00</td>\n",
       "      <td>0.0</td>\n",
       "      <td>0.0000</td>\n",
       "      <td>0.0</td>\n",
       "    </tr>\n",
       "    <tr>\n",
       "      <th>3</th>\n",
       "      <td>2023-02-28</td>\n",
       "      <td>830</td>\n",
       "      <td>117</td>\n",
       "      <td>Wattala 2 SS</td>\n",
       "      <td>B</td>\n",
       "      <td>Electricals</td>\n",
       "      <td>Electronics</td>\n",
       "      <td>LPSLWF1608R</td>\n",
       "      <td>299.0</td>\n",
       "      <td>SINGER WALL FAN</td>\n",
       "      <td>...</td>\n",
       "      <td>0.0</td>\n",
       "      <td>0.0</td>\n",
       "      <td>0.0</td>\n",
       "      <td>0.0</td>\n",
       "      <td>0.0</td>\n",
       "      <td>0.0</td>\n",
       "      <td>0.00</td>\n",
       "      <td>0.0</td>\n",
       "      <td>7208.1005</td>\n",
       "      <td>0.0</td>\n",
       "    </tr>\n",
       "    <tr>\n",
       "      <th>4</th>\n",
       "      <td>2023-02-28</td>\n",
       "      <td>830</td>\n",
       "      <td>117</td>\n",
       "      <td>Wattala 2 SS</td>\n",
       "      <td>B</td>\n",
       "      <td>Electricals</td>\n",
       "      <td>Electronics</td>\n",
       "      <td>TCR-SF1638</td>\n",
       "      <td>100531.0</td>\n",
       "      <td>TECRO STAND FAN</td>\n",
       "      <td>...</td>\n",
       "      <td>0.0</td>\n",
       "      <td>0.0</td>\n",
       "      <td>0.0</td>\n",
       "      <td>0.0</td>\n",
       "      <td>0.0</td>\n",
       "      <td>0.0</td>\n",
       "      <td>6088.61</td>\n",
       "      <td>0.0</td>\n",
       "      <td>0.0000</td>\n",
       "      <td>0.0</td>\n",
       "    </tr>\n",
       "  </tbody>\n",
       "</table>\n",
       "<p>5 rows × 35 columns</p>\n",
       "</div>"
      ],
      "text/plain": [
       "     rep_date  sbu_code  loc_code      loc_name prim_cls     main_grp  \\\n",
       "0  2023-02-28       830       117  Wattala 2 SS        B  Electricals   \n",
       "1  2023-02-28       830       117  Wattala 2 SS        B  Electricals   \n",
       "2  2023-02-28       830       117  Wattala 2 SS        B  Electricals   \n",
       "3  2023-02-28       830       117  Wattala 2 SS        B  Electricals   \n",
       "4  2023-02-28       830       117  Wattala 2 SS        B  Electricals   \n",
       "\n",
       "        catdes     item_code  supplier                     itm_desc  ...  \\\n",
       "0  Electronics  LPERKDKN56RG  200001.0        KDK CEILING FAN N56RG  ...   \n",
       "1  Electronics  LPRTDPF1104A  100521.0  DP RECHARGEABLE FAN 12 INCH  ...   \n",
       "2  Electronics  LPRTDPLED762  100521.0      RECHARGEABLE FAN 7 INCH  ...   \n",
       "3  Electronics   LPSLWF1608R     299.0              SINGER WALL FAN  ...   \n",
       "4  Electronics    TCR-SF1638  100531.0              TECRO STAND FAN  ...   \n",
       "\n",
       "  cur_val  ove30_val  ove60_val ove90_val  ove120_val  ove180_val  ove270_val  \\\n",
       "0     0.0        0.0        0.0       0.0         0.0         0.0    13155.01   \n",
       "1     0.0        0.0        0.0       0.0     47000.0         0.0        0.00   \n",
       "2     0.0        0.0        0.0       0.0     14000.0         0.0        0.00   \n",
       "3     0.0        0.0        0.0       0.0         0.0         0.0        0.00   \n",
       "4     0.0        0.0        0.0       0.0         0.0         0.0     6088.61   \n",
       "\n",
       "   ove365_val  ove730_val  neg_stock_val  \n",
       "0         0.0      0.0000            0.0  \n",
       "1         0.0      0.0000            0.0  \n",
       "2         0.0      0.0000            0.0  \n",
       "3         0.0   7208.1005            0.0  \n",
       "4         0.0      0.0000            0.0  \n",
       "\n",
       "[5 rows x 35 columns]"
      ]
     },
     "execution_count": 104,
     "metadata": {},
     "output_type": "execute_result"
    }
   ],
   "source": [
    "MergedStock.head()"
   ]
  },
  {
   "cell_type": "code",
   "execution_count": 105,
   "id": "79718510",
   "metadata": {
    "scrolled": true
   },
   "outputs": [
    {
     "data": {
      "text/plain": [
       "4640787284.298499"
      ]
     },
     "execution_count": 105,
     "metadata": {},
     "output_type": "execute_result"
    }
   ],
   "source": [
    "MergedStock['on_hand_value'].sum()"
   ]
  },
  {
   "cell_type": "code",
   "execution_count": 106,
   "id": "f3598df8",
   "metadata": {},
   "outputs": [],
   "source": [
    "MergedStock.to_csv(\"G:\\\\Pramud Office Important\\\\Pramud Updated 21-05-2020\\\\Weekly Stock\\\\28th Feb 2023\\\\28thMarMergedStock.csv\",index = False)"
   ]
  },
  {
   "cell_type": "code",
   "execution_count": null,
   "id": "38a2bfdb",
   "metadata": {},
   "outputs": [],
   "source": []
  }
 ],
 "metadata": {
  "kernelspec": {
   "display_name": "Python 3 (ipykernel)",
   "language": "python",
   "name": "python3"
  },
  "language_info": {
   "codemirror_mode": {
    "name": "ipython",
    "version": 3
   },
   "file_extension": ".py",
   "mimetype": "text/x-python",
   "name": "python",
   "nbconvert_exporter": "python",
   "pygments_lexer": "ipython3",
   "version": "3.9.13"
  }
 },
 "nbformat": 4,
 "nbformat_minor": 5
}
